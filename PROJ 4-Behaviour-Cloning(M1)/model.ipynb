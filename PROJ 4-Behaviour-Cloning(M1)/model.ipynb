{
 "cells": [
  {
   "cell_type": "markdown",
   "metadata": {},
   "source": [
    "# Start"
   ]
  },
  {
   "cell_type": "code",
   "execution_count": 1,
   "metadata": {},
   "outputs": [],
   "source": [
    "import csv\n",
    "import cv2 as cv\n",
    "import numpy as np\n",
    "import matplotlib.pyplot as plt\n",
    "import random\n",
    "from helper import *\n",
    "%matplotlib inline\n",
    "\n",
    "data_object = Data_Object()"
   ]
  },
  {
   "cell_type": "markdown",
   "metadata": {},
   "source": [
    "# Build the Training Data"
   ]
  },
  {
   "cell_type": "code",
   "execution_count": 2,
   "metadata": {},
   "outputs": [
    {
     "name": "stdout",
     "output_type": "stream",
     "text": [
      "\n",
      "Using augmented training_1 data with side images. \n",
      "Using augmented training_2 data with side images. \n",
      "Using augmented recovery_1 data.\n",
      "Using augmented recovery_2 data.\n",
      "There are 36482 images in the data.\n"
     ]
    }
   ],
   "source": [
    "data_object.add_data(\"training_1\", augment=True, side_images=True)\n",
    "data_object.add_data(\"training_2\", augment=True, side_images=True)\n",
    "data_object.add_data(\"recovery_1\", augment=True, side_images=False)\n",
    "data_object.add_data(\"recovery_2\", augment=True, side_images=False)\n",
    "\n",
    "data_object.print_log()"
   ]
  },
  {
   "cell_type": "markdown",
   "metadata": {},
   "source": [
    "# Visualise the Data"
   ]
  },
  {
   "cell_type": "code",
   "execution_count": null,
   "metadata": {
    "collapsed": true
   },
   "outputs": [],
   "source": [
    "data_object.visualise_data()"
   ]
  },
  {
   "cell_type": "markdown",
   "metadata": {},
   "source": [
    "# Build the Model"
   ]
  },
  {
   "cell_type": "markdown",
   "metadata": {},
   "source": [
    "### Vanilla"
   ]
  },
  {
   "cell_type": "code",
   "execution_count": null,
   "metadata": {
    "collapsed": true
   },
   "outputs": [],
   "source": [
    "from keras.models import Sequential\n",
    "from keras.layers.core import Dense, Activation, Flatten, Lambda\n",
    "from keras.layers.convolutional import Convolution2D\n",
    "from keras.layers.pooling import MaxPooling2D\n",
    "from keras.layers import Cropping2D\n",
    "\n",
    "# Start off the model\n",
    "model = Sequential()\n",
    "\n",
    "# Preprocessing - Normalise\n",
    "model.add(Lambda(lambda x: x / 255.0 - 0.5, input_shape=(160,320,3)))\n",
    "\n",
    "# Processing - Crop\n",
    "model.add(Cropping2D(cropping=((70, 25), (0, 0))))\n",
    "\n",
    "# Flatten before fully connected layers\n",
    "model.add(Flatten())\n",
    "\n",
    "# Layer 3 - Dense\n",
    "model.add(Dense(50))\n",
    "\n",
    "# Output Layer\n",
    "model.add(Dense(1))\n",
    "\n",
    "# Compile the model\n",
    "model.compile(loss='mse', optimizer='adam')\n",
    "\n",
    "data_object.add_model(\"vanilla\")"
   ]
  },
  {
   "cell_type": "markdown",
   "metadata": {},
   "source": [
    "### LeNet"
   ]
  },
  {
   "cell_type": "code",
   "execution_count": null,
   "metadata": {
    "collapsed": true
   },
   "outputs": [],
   "source": [
    "from keras.models import Sequential\n",
    "from keras.layers.core import Dense, Activation, Flatten, Lambda\n",
    "from keras.layers.convolutional import Convolution2D\n",
    "from keras.layers.pooling import MaxPooling2D\n",
    "from keras.layers import Cropping2D\n",
    "\n",
    "# Start off the model\n",
    "model = Sequential()\n",
    "\n",
    "# Preprocessing - Normalise\n",
    "model.add(Lambda(lambda x: x / 255.0 - 0.5, input_shape=(160,320,3)))\n",
    "\n",
    "# Processing - Crop\n",
    "model.add(Cropping2D(cropping=((70, 25), (0, 0))))\n",
    "\n",
    "# Layer 1 - Convolution\n",
    "model.add(Convolution2D(6, (5, 5), activation=\"relu\"))\n",
    "model.add(MaxPooling2D())\n",
    "#model.add(Dropout(0.6))\n",
    "\n",
    "# Layer 2 - Convolution\n",
    "model.add(Convolution2D(6, (5, 5), activation=\"relu\"))\n",
    "model.add(MaxPooling2D())\n",
    "#model.add(Dropout(0.6))\n",
    "\n",
    "# Flatten before fully connected layers\n",
    "model.add(Flatten())\n",
    "\n",
    "# Layer 3 - Dense\n",
    "model.add(Dense(120))\n",
    "\n",
    "# Layer 4 - Dense\n",
    "model.add(Dense(84))\n",
    "\n",
    "# Output Layer\n",
    "model.add(Dense(1))\n",
    "\n",
    "# Compile the model\n",
    "model.compile(loss='mse', optimizer='adam')\n",
    "\n",
    "data_object.add_model(\"LeNet\")"
   ]
  },
  {
   "cell_type": "markdown",
   "metadata": {},
   "source": [
    "### NVIDIA"
   ]
  },
  {
   "cell_type": "code",
   "execution_count": 3,
   "metadata": {},
   "outputs": [
    {
     "name": "stderr",
     "output_type": "stream",
     "text": [
      "Using TensorFlow backend.\n"
     ]
    }
   ],
   "source": [
    "from keras.models import Sequential\n",
    "from keras.layers.core import Dense, Activation, Flatten, Lambda, Dropout\n",
    "from keras.layers.convolutional import Convolution2D, Conv2D\n",
    "from keras.layers.pooling import MaxPooling2D\n",
    "from keras.layers import Cropping2D\n",
    "\n",
    "# Start off the model\n",
    "model = Sequential()\n",
    "\n",
    "# Preprocessing - Normalise\n",
    "model.add(Lambda(lambda x: x / 255.0 - 0.5, input_shape=(160,320,3)))\n",
    "\n",
    "# Processing - Crop\n",
    "model.add(Cropping2D(cropping=((70, 25), (0, 0))))\n",
    "\n",
    "# Layer 1 - Convolution\n",
    "model.add(Conv2D(24, (5, 5), activation=\"relu\", strides=(2,2)))\n",
    "\n",
    "# Layer 2 - Convolution\n",
    "model.add(Conv2D(36, (5, 5), activation=\"relu\", strides=(2,2)))\n",
    "\n",
    "# Layer 3 - Convolution\n",
    "model.add(Conv2D(48, (5, 5), activation=\"relu\", strides=(2,2)))\n",
    "\n",
    "# Layer 4 - Convolution\n",
    "model.add(Conv2D(64, (3, 3), activation=\"relu\"))\n",
    "model.add(Dropout(0.75))\n",
    "\n",
    "# Layer 5 - Convolution\n",
    "model.add(Conv2D(64, (3, 3), activation=\"relu\"))\n",
    "model.add(Dropout(0.75))\n",
    "\n",
    "# Flatten before fully connected layers\n",
    "model.add(Flatten())\n",
    "\n",
    "# Layer 3 - Dense\n",
    "model.add(Dense(100))\n",
    "\n",
    "# Layer 4 - Dense\n",
    "model.add(Dense(50))\n",
    "\n",
    "# Layer 4 - Dense\n",
    "model.add(Dense(10))\n",
    "\n",
    "# Output Layer\n",
    "model.add(Dense(1))\n",
    "\n",
    "# Compile the model\n",
    "model.compile(loss='mse', optimizer='adam')\n",
    "\n",
    "data_object.add_model(\"NVIDIA\")"
   ]
  },
  {
   "cell_type": "markdown",
   "metadata": {},
   "source": [
    "# Train the Model"
   ]
  },
  {
   "cell_type": "markdown",
   "metadata": {},
   "source": [
    "### Train the Model"
   ]
  },
  {
   "cell_type": "code",
   "execution_count": 5,
   "metadata": {},
   "outputs": [
    {
     "name": "stdout",
     "output_type": "stream",
     "text": [
      "Train on 25537 samples, validate on 10945 samples\n",
      "Epoch 1/3\n",
      "25537/25537 [==============================] - 861s 34ms/step - loss: 0.0134 - val_loss: 0.0357\n",
      "Epoch 2/3\n",
      "25537/25537 [==============================] - 870s 34ms/step - loss: 0.0081 - val_loss: 0.0385\n",
      "Epoch 3/3\n",
      "25537/25537 [==============================] - 904s 35ms/step - loss: 0.0066 - val_loss: 0.0350\n",
      "\n",
      "Using augmented training_1 data with side images. \n",
      "Using augmented training_2 data with side images. \n",
      "Using augmented recovery_1 data.\n",
      "Using augmented recovery_2 data.\n",
      "Using NVIDIA network.\n",
      "There are 36482 images in the data.\n"
     ]
    },
    {
     "data": {
      "image/png": "[encoded data removed]",
      "text/plain": [
       "<matplotlib.figure.Figure at 0x7f1a00bb4390>"
      ]
     },
     "metadata": {},
     "output_type": "display_data"
    }
   ],
   "source": [
    "from keras.models import Model\n",
    "import matplotlib.pyplot as plt\n",
    "\n",
    "# Train the model\n",
    "history_object = model.fit(data_object.get_x_data(), data_object.get_y_data(), epochs=3, validation_split=0.3, shuffle=True)\n",
    "\n",
    "# Print out the data settings\n",
    "data_object.print_log()\n",
    "\n",
    "# Plot the training and validation loss for each epoch\n",
    "plt.plot(history_object.history['loss'])\n",
    "plt.plot(history_object.history['val_loss'])\n",
    "plt.title('model mean squared error loss')\n",
    "plt.ylabel('mean squared error loss')\n",
    "plt.xlabel('epoch')\n",
    "plt.legend(['training set', 'validation set'], loc='upper right')\n",
    "plt.show()"
   ]
  },
  {
   "cell_type": "markdown",
   "metadata": {},
   "source": [
    "### Save the Model"
   ]
  },
  {
   "cell_type": "code",
   "execution_count": 6,
   "metadata": {
    "collapsed": true
   },
   "outputs": [],
   "source": [
    "model.save('model.h5')"
   ]
  },
  {
   "cell_type": "code",
   "execution_count": null,
   "metadata": {
    "collapsed": true
   },
   "outputs": [],
   "source": []
  }
 ],
 "metadata": {
  "kernelspec": {
   "display_name": "Python 3",
   "language": "python",
   "name": "python3"
  },
  "language_info": {
   "codemirror_mode": {
    "name": "ipython",
    "version": 3
   },
   "file_extension": ".py",
   "mimetype": "text/x-python",
   "name": "python",
   "nbconvert_exporter": "python",
   "pygments_lexer": "ipython3",
   "version": "3.5.2"
  },
  "widgets": {
   "state": {},
   "version": "1.1.2"
  }
 },
 "nbformat": 4,
 "nbformat_minor": 2
}
